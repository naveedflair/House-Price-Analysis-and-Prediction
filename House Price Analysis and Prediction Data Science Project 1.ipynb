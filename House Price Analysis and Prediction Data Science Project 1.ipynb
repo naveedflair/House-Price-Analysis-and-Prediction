{
 "cells": [
  {
   "cell_type": "markdown",
   "id": "e1d99943-4b44-45f5-a510-c873fc569977",
   "metadata": {},
   "source": [
    "# Import Libraries"
   ]
  },
  {
   "cell_type": "code",
   "execution_count": 1,
   "id": "69023444",
   "metadata": {
    "papermill": {
     "duration": 1.709187,
     "end_time": "2023-12-21T22:20:52.973843",
     "exception": false,
     "start_time": "2023-12-21T22:20:51.264656",
     "status": "completed"
    },
    "tags": []
   },
   "outputs": [],
   "source": [
    "import pandas as pd\n",
    "import numpy as np\n",
    "import seaborn as sns\n",
    "import matplotlib.pyplot as plt"
   ]
  },
  {
   "cell_type": "markdown",
   "id": "98e8f563-2069-45c3-95e9-42c60a1b7439",
   "metadata": {},
   "source": [
    "# Load  Dataset"
   ]
  },
  {
   "cell_type": "code",
   "execution_count": 2,
   "id": "e4e4019b",
   "metadata": {
    "papermill": {
     "duration": 1.442789,
     "end_time": "2023-12-21T22:20:54.429268",
     "exception": false,
     "start_time": "2023-12-21T22:20:52.986479",
     "status": "completed"
    },
    "scrolled": true,
    "tags": []
   },
   "outputs": [
    {
     "data": {
      "text/html": [
       "<div>\n",
       "<style scoped>\n",
       "    .dataframe tbody tr th:only-of-type {\n",
       "        vertical-align: middle;\n",
       "    }\n",
       "\n",
       "    .dataframe tbody tr th {\n",
       "        vertical-align: top;\n",
       "    }\n",
       "\n",
       "    .dataframe thead th {\n",
       "        text-align: right;\n",
       "    }\n",
       "</style>\n",
       "<table border=\"1\" class=\"dataframe\">\n",
       "  <thead>\n",
       "    <tr style=\"text-align: right;\">\n",
       "      <th></th>\n",
       "      <th>property_id</th>\n",
       "      <th>location_id</th>\n",
       "      <th>page_url</th>\n",
       "      <th>property_type</th>\n",
       "      <th>price</th>\n",
       "      <th>location</th>\n",
       "      <th>city</th>\n",
       "      <th>province_name</th>\n",
       "      <th>latitude</th>\n",
       "      <th>longitude</th>\n",
       "      <th>baths</th>\n",
       "      <th>area</th>\n",
       "      <th>purpose</th>\n",
       "      <th>bedrooms</th>\n",
       "      <th>date_added</th>\n",
       "      <th>agency</th>\n",
       "      <th>agent</th>\n",
       "      <th>Area Type</th>\n",
       "      <th>Area Size</th>\n",
       "      <th>Area Category</th>\n",
       "    </tr>\n",
       "  </thead>\n",
       "  <tbody>\n",
       "    <tr>\n",
       "      <th>0</th>\n",
       "      <td>237062</td>\n",
       "      <td>3325</td>\n",
       "      <td>https://www.zameen.com/Property/g_10_g_10_2_gr...</td>\n",
       "      <td>Flat</td>\n",
       "      <td>10000000</td>\n",
       "      <td>G-10</td>\n",
       "      <td>Islamabad</td>\n",
       "      <td>Islamabad Capital</td>\n",
       "      <td>33.679890</td>\n",
       "      <td>73.012640</td>\n",
       "      <td>2</td>\n",
       "      <td>4 Marla</td>\n",
       "      <td>For Sale</td>\n",
       "      <td>2</td>\n",
       "      <td>02-04-2019</td>\n",
       "      <td>NaN</td>\n",
       "      <td>NaN</td>\n",
       "      <td>Marla</td>\n",
       "      <td>4.0</td>\n",
       "      <td>0-5 Marla</td>\n",
       "    </tr>\n",
       "    <tr>\n",
       "      <th>1</th>\n",
       "      <td>346905</td>\n",
       "      <td>3236</td>\n",
       "      <td>https://www.zameen.com/Property/e_11_2_service...</td>\n",
       "      <td>Flat</td>\n",
       "      <td>6900000</td>\n",
       "      <td>E-11</td>\n",
       "      <td>Islamabad</td>\n",
       "      <td>Islamabad Capital</td>\n",
       "      <td>33.700993</td>\n",
       "      <td>72.971492</td>\n",
       "      <td>3</td>\n",
       "      <td>5.6 Marla</td>\n",
       "      <td>For Sale</td>\n",
       "      <td>3</td>\n",
       "      <td>05-04-2019</td>\n",
       "      <td>NaN</td>\n",
       "      <td>NaN</td>\n",
       "      <td>Marla</td>\n",
       "      <td>5.6</td>\n",
       "      <td>5-10 Marla</td>\n",
       "    </tr>\n",
       "    <tr>\n",
       "      <th>2</th>\n",
       "      <td>386513</td>\n",
       "      <td>764</td>\n",
       "      <td>https://www.zameen.com/Property/islamabad_g_15...</td>\n",
       "      <td>House</td>\n",
       "      <td>16500000</td>\n",
       "      <td>G-15</td>\n",
       "      <td>Islamabad</td>\n",
       "      <td>Islamabad Capital</td>\n",
       "      <td>33.631486</td>\n",
       "      <td>72.926559</td>\n",
       "      <td>6</td>\n",
       "      <td>8 Marla</td>\n",
       "      <td>For Sale</td>\n",
       "      <td>5</td>\n",
       "      <td>07-17-2019</td>\n",
       "      <td>NaN</td>\n",
       "      <td>NaN</td>\n",
       "      <td>Marla</td>\n",
       "      <td>8.0</td>\n",
       "      <td>5-10 Marla</td>\n",
       "    </tr>\n",
       "    <tr>\n",
       "      <th>3</th>\n",
       "      <td>656161</td>\n",
       "      <td>340</td>\n",
       "      <td>https://www.zameen.com/Property/islamabad_bani...</td>\n",
       "      <td>House</td>\n",
       "      <td>43500000</td>\n",
       "      <td>Bani Gala</td>\n",
       "      <td>Islamabad</td>\n",
       "      <td>Islamabad Capital</td>\n",
       "      <td>33.707573</td>\n",
       "      <td>73.151199</td>\n",
       "      <td>4</td>\n",
       "      <td>2 Kanal</td>\n",
       "      <td>For Sale</td>\n",
       "      <td>4</td>\n",
       "      <td>04-05-2019</td>\n",
       "      <td>NaN</td>\n",
       "      <td>NaN</td>\n",
       "      <td>Kanal</td>\n",
       "      <td>2.0</td>\n",
       "      <td>1-5 Kanal</td>\n",
       "    </tr>\n",
       "    <tr>\n",
       "      <th>4</th>\n",
       "      <td>841645</td>\n",
       "      <td>3226</td>\n",
       "      <td>https://www.zameen.com/Property/dha_valley_dha...</td>\n",
       "      <td>House</td>\n",
       "      <td>7000000</td>\n",
       "      <td>DHA Defence</td>\n",
       "      <td>Islamabad</td>\n",
       "      <td>Islamabad Capital</td>\n",
       "      <td>33.492591</td>\n",
       "      <td>73.301339</td>\n",
       "      <td>3</td>\n",
       "      <td>8 Marla</td>\n",
       "      <td>For Sale</td>\n",
       "      <td>3</td>\n",
       "      <td>07-10-2019</td>\n",
       "      <td>Easy Property</td>\n",
       "      <td>Muhammad Junaid Ceo Muhammad Shahid Director</td>\n",
       "      <td>Marla</td>\n",
       "      <td>8.0</td>\n",
       "      <td>5-10 Marla</td>\n",
       "    </tr>\n",
       "    <tr>\n",
       "      <th>...</th>\n",
       "      <td>...</td>\n",
       "      <td>...</td>\n",
       "      <td>...</td>\n",
       "      <td>...</td>\n",
       "      <td>...</td>\n",
       "      <td>...</td>\n",
       "      <td>...</td>\n",
       "      <td>...</td>\n",
       "      <td>...</td>\n",
       "      <td>...</td>\n",
       "      <td>...</td>\n",
       "      <td>...</td>\n",
       "      <td>...</td>\n",
       "      <td>...</td>\n",
       "      <td>...</td>\n",
       "      <td>...</td>\n",
       "      <td>...</td>\n",
       "      <td>...</td>\n",
       "      <td>...</td>\n",
       "      <td>...</td>\n",
       "    </tr>\n",
       "    <tr>\n",
       "      <th>168441</th>\n",
       "      <td>17355248</td>\n",
       "      <td>6754</td>\n",
       "      <td>https://www.zameen.com/Property/gulshan_e_maym...</td>\n",
       "      <td>House</td>\n",
       "      <td>26500000</td>\n",
       "      <td>Gadap Town</td>\n",
       "      <td>Karachi</td>\n",
       "      <td>Sindh</td>\n",
       "      <td>25.029909</td>\n",
       "      <td>67.137192</td>\n",
       "      <td>0</td>\n",
       "      <td>9.6 Marla</td>\n",
       "      <td>For Sale</td>\n",
       "      <td>6</td>\n",
       "      <td>07-18-2019</td>\n",
       "      <td>Al Shahab Enterprises</td>\n",
       "      <td>Shahmir</td>\n",
       "      <td>Marla</td>\n",
       "      <td>9.6</td>\n",
       "      <td>5-10 Marla</td>\n",
       "    </tr>\n",
       "    <tr>\n",
       "      <th>168442</th>\n",
       "      <td>17355249</td>\n",
       "      <td>680</td>\n",
       "      <td>https://www.zameen.com/Property/gadap_town_gul...</td>\n",
       "      <td>House</td>\n",
       "      <td>12500000</td>\n",
       "      <td>Gadap Town</td>\n",
       "      <td>Karachi</td>\n",
       "      <td>Sindh</td>\n",
       "      <td>25.017951</td>\n",
       "      <td>67.136393</td>\n",
       "      <td>0</td>\n",
       "      <td>8 Marla</td>\n",
       "      <td>For Sale</td>\n",
       "      <td>3</td>\n",
       "      <td>07-18-2019</td>\n",
       "      <td>Al Shahab Enterprises</td>\n",
       "      <td>Shahmir</td>\n",
       "      <td>Marla</td>\n",
       "      <td>8.0</td>\n",
       "      <td>5-10 Marla</td>\n",
       "    </tr>\n",
       "    <tr>\n",
       "      <th>168443</th>\n",
       "      <td>17355250</td>\n",
       "      <td>6757</td>\n",
       "      <td>https://www.zameen.com/Property/gulshan_e_maym...</td>\n",
       "      <td>House</td>\n",
       "      <td>27000000</td>\n",
       "      <td>Gadap Town</td>\n",
       "      <td>Karachi</td>\n",
       "      <td>Sindh</td>\n",
       "      <td>25.015384</td>\n",
       "      <td>67.116330</td>\n",
       "      <td>0</td>\n",
       "      <td>9.6 Marla</td>\n",
       "      <td>For Sale</td>\n",
       "      <td>6</td>\n",
       "      <td>07-18-2019</td>\n",
       "      <td>Al Shahab Enterprises</td>\n",
       "      <td>Shahmir</td>\n",
       "      <td>Marla</td>\n",
       "      <td>9.6</td>\n",
       "      <td>5-10 Marla</td>\n",
       "    </tr>\n",
       "    <tr>\n",
       "      <th>168444</th>\n",
       "      <td>17355251</td>\n",
       "      <td>6752</td>\n",
       "      <td>https://www.zameen.com/Property/gulshan_e_maym...</td>\n",
       "      <td>House</td>\n",
       "      <td>11000000</td>\n",
       "      <td>Gadap Town</td>\n",
       "      <td>Karachi</td>\n",
       "      <td>Sindh</td>\n",
       "      <td>25.013265</td>\n",
       "      <td>67.120818</td>\n",
       "      <td>0</td>\n",
       "      <td>7.8 Marla</td>\n",
       "      <td>For Sale</td>\n",
       "      <td>3</td>\n",
       "      <td>07-18-2019</td>\n",
       "      <td>Al Shahab Enterprises</td>\n",
       "      <td>Shahmir</td>\n",
       "      <td>Marla</td>\n",
       "      <td>7.8</td>\n",
       "      <td>5-10 Marla</td>\n",
       "    </tr>\n",
       "    <tr>\n",
       "      <th>168445</th>\n",
       "      <td>17355287</td>\n",
       "      <td>10045</td>\n",
       "      <td>https://www.zameen.com/Property/bahria_town_ka...</td>\n",
       "      <td>House</td>\n",
       "      <td>9000000</td>\n",
       "      <td>Bahria Town Karachi</td>\n",
       "      <td>Karachi</td>\n",
       "      <td>Sindh</td>\n",
       "      <td>25.113565</td>\n",
       "      <td>67.353811</td>\n",
       "      <td>3</td>\n",
       "      <td>9.4 Marla</td>\n",
       "      <td>For Sale</td>\n",
       "      <td>3</td>\n",
       "      <td>07-18-2019</td>\n",
       "      <td>ZPN Real Estate &amp; Builders</td>\n",
       "      <td>Ali Raza</td>\n",
       "      <td>Marla</td>\n",
       "      <td>9.4</td>\n",
       "      <td>5-10 Marla</td>\n",
       "    </tr>\n",
       "  </tbody>\n",
       "</table>\n",
       "<p>168446 rows × 20 columns</p>\n",
       "</div>"
      ],
      "text/plain": [
       "        property_id  location_id  \\\n",
       "0            237062         3325   \n",
       "1            346905         3236   \n",
       "2            386513          764   \n",
       "3            656161          340   \n",
       "4            841645         3226   \n",
       "...             ...          ...   \n",
       "168441     17355248         6754   \n",
       "168442     17355249          680   \n",
       "168443     17355250         6757   \n",
       "168444     17355251         6752   \n",
       "168445     17355287        10045   \n",
       "\n",
       "                                                 page_url property_type  \\\n",
       "0       https://www.zameen.com/Property/g_10_g_10_2_gr...          Flat   \n",
       "1       https://www.zameen.com/Property/e_11_2_service...          Flat   \n",
       "2       https://www.zameen.com/Property/islamabad_g_15...         House   \n",
       "3       https://www.zameen.com/Property/islamabad_bani...         House   \n",
       "4       https://www.zameen.com/Property/dha_valley_dha...         House   \n",
       "...                                                   ...           ...   \n",
       "168441  https://www.zameen.com/Property/gulshan_e_maym...         House   \n",
       "168442  https://www.zameen.com/Property/gadap_town_gul...         House   \n",
       "168443  https://www.zameen.com/Property/gulshan_e_maym...         House   \n",
       "168444  https://www.zameen.com/Property/gulshan_e_maym...         House   \n",
       "168445  https://www.zameen.com/Property/bahria_town_ka...         House   \n",
       "\n",
       "           price             location       city      province_name  \\\n",
       "0       10000000                 G-10  Islamabad  Islamabad Capital   \n",
       "1        6900000                 E-11  Islamabad  Islamabad Capital   \n",
       "2       16500000                 G-15  Islamabad  Islamabad Capital   \n",
       "3       43500000            Bani Gala  Islamabad  Islamabad Capital   \n",
       "4        7000000          DHA Defence  Islamabad  Islamabad Capital   \n",
       "...          ...                  ...        ...                ...   \n",
       "168441  26500000           Gadap Town    Karachi              Sindh   \n",
       "168442  12500000           Gadap Town    Karachi              Sindh   \n",
       "168443  27000000           Gadap Town    Karachi              Sindh   \n",
       "168444  11000000           Gadap Town    Karachi              Sindh   \n",
       "168445   9000000  Bahria Town Karachi    Karachi              Sindh   \n",
       "\n",
       "         latitude  longitude  baths       area   purpose  bedrooms  \\\n",
       "0       33.679890  73.012640      2    4 Marla  For Sale         2   \n",
       "1       33.700993  72.971492      3  5.6 Marla  For Sale         3   \n",
       "2       33.631486  72.926559      6    8 Marla  For Sale         5   \n",
       "3       33.707573  73.151199      4    2 Kanal  For Sale         4   \n",
       "4       33.492591  73.301339      3    8 Marla  For Sale         3   \n",
       "...           ...        ...    ...        ...       ...       ...   \n",
       "168441  25.029909  67.137192      0  9.6 Marla  For Sale         6   \n",
       "168442  25.017951  67.136393      0    8 Marla  For Sale         3   \n",
       "168443  25.015384  67.116330      0  9.6 Marla  For Sale         6   \n",
       "168444  25.013265  67.120818      0  7.8 Marla  For Sale         3   \n",
       "168445  25.113565  67.353811      3  9.4 Marla  For Sale         3   \n",
       "\n",
       "        date_added                      agency  \\\n",
       "0       02-04-2019                         NaN   \n",
       "1       05-04-2019                         NaN   \n",
       "2       07-17-2019                         NaN   \n",
       "3       04-05-2019                         NaN   \n",
       "4       07-10-2019               Easy Property   \n",
       "...            ...                         ...   \n",
       "168441  07-18-2019       Al Shahab Enterprises   \n",
       "168442  07-18-2019       Al Shahab Enterprises   \n",
       "168443  07-18-2019       Al Shahab Enterprises   \n",
       "168444  07-18-2019       Al Shahab Enterprises   \n",
       "168445  07-18-2019  ZPN Real Estate & Builders   \n",
       "\n",
       "                                               agent Area Type  Area Size  \\\n",
       "0                                                NaN     Marla        4.0   \n",
       "1                                                NaN     Marla        5.6   \n",
       "2                                                NaN     Marla        8.0   \n",
       "3                                                NaN     Kanal        2.0   \n",
       "4       Muhammad Junaid Ceo Muhammad Shahid Director     Marla        8.0   \n",
       "...                                              ...       ...        ...   \n",
       "168441                                       Shahmir     Marla        9.6   \n",
       "168442                                       Shahmir     Marla        8.0   \n",
       "168443                                       Shahmir     Marla        9.6   \n",
       "168444                                       Shahmir     Marla        7.8   \n",
       "168445                                      Ali Raza     Marla        9.4   \n",
       "\n",
       "       Area Category  \n",
       "0          0-5 Marla  \n",
       "1         5-10 Marla  \n",
       "2         5-10 Marla  \n",
       "3          1-5 Kanal  \n",
       "4         5-10 Marla  \n",
       "...              ...  \n",
       "168441    5-10 Marla  \n",
       "168442    5-10 Marla  \n",
       "168443    5-10 Marla  \n",
       "168444    5-10 Marla  \n",
       "168445    5-10 Marla  \n",
       "\n",
       "[168446 rows x 20 columns]"
      ]
     },
     "execution_count": 2,
     "metadata": {},
     "output_type": "execute_result"
    }
   ],
   "source": [
    "missing_values=[\"N/a\",\"na\",np.nan]\n",
    "df=pd.read_csv('zameen-updated.csv',na_values=missing_values)\n",
    "df"
   ]
  },
  {
   "cell_type": "code",
   "execution_count": null,
   "id": "463412bb-f85d-48c9-b6e3-e74da7579e59",
   "metadata": {},
   "outputs": [],
   "source": []
  },
  {
   "cell_type": "markdown",
   "id": "ec490d0c",
   "metadata": {
    "papermill": {
     "duration": 0.013009,
     "end_time": "2023-12-21T22:20:54.455853",
     "exception": false,
     "start_time": "2023-12-21T22:20:54.442844",
     "status": "completed"
    },
    "tags": []
   },
   "source": [
    "# Feature Selection"
   ]
  },
  {
   "cell_type": "code",
   "execution_count": 4,
   "id": "4299a72c",
   "metadata": {
    "papermill": {
     "duration": 0.060364,
     "end_time": "2023-12-21T22:20:54.529643",
     "exception": false,
     "start_time": "2023-12-21T22:20:54.469279",
     "status": "completed"
    },
    "tags": []
   },
   "outputs": [
    {
     "data": {
      "text/html": [
       "<div>\n",
       "<style scoped>\n",
       "    .dataframe tbody tr th:only-of-type {\n",
       "        vertical-align: middle;\n",
       "    }\n",
       "\n",
       "    .dataframe tbody tr th {\n",
       "        vertical-align: top;\n",
       "    }\n",
       "\n",
       "    .dataframe thead th {\n",
       "        text-align: right;\n",
       "    }\n",
       "</style>\n",
       "<table border=\"1\" class=\"dataframe\">\n",
       "  <thead>\n",
       "    <tr style=\"text-align: right;\">\n",
       "      <th></th>\n",
       "      <th>property_type</th>\n",
       "      <th>price</th>\n",
       "      <th>location</th>\n",
       "      <th>city</th>\n",
       "      <th>province_name</th>\n",
       "      <th>latitude</th>\n",
       "      <th>longitude</th>\n",
       "      <th>baths</th>\n",
       "      <th>purpose</th>\n",
       "      <th>bedrooms</th>\n",
       "      <th>Area Type</th>\n",
       "      <th>Area Size</th>\n",
       "    </tr>\n",
       "  </thead>\n",
       "  <tbody>\n",
       "    <tr>\n",
       "      <th>0</th>\n",
       "      <td>Flat</td>\n",
       "      <td>10000000</td>\n",
       "      <td>G-10</td>\n",
       "      <td>Islamabad</td>\n",
       "      <td>Islamabad Capital</td>\n",
       "      <td>33.679890</td>\n",
       "      <td>73.012640</td>\n",
       "      <td>2</td>\n",
       "      <td>For Sale</td>\n",
       "      <td>2</td>\n",
       "      <td>Marla</td>\n",
       "      <td>4.0</td>\n",
       "    </tr>\n",
       "    <tr>\n",
       "      <th>1</th>\n",
       "      <td>Flat</td>\n",
       "      <td>6900000</td>\n",
       "      <td>E-11</td>\n",
       "      <td>Islamabad</td>\n",
       "      <td>Islamabad Capital</td>\n",
       "      <td>33.700993</td>\n",
       "      <td>72.971492</td>\n",
       "      <td>3</td>\n",
       "      <td>For Sale</td>\n",
       "      <td>3</td>\n",
       "      <td>Marla</td>\n",
       "      <td>5.6</td>\n",
       "    </tr>\n",
       "    <tr>\n",
       "      <th>2</th>\n",
       "      <td>House</td>\n",
       "      <td>16500000</td>\n",
       "      <td>G-15</td>\n",
       "      <td>Islamabad</td>\n",
       "      <td>Islamabad Capital</td>\n",
       "      <td>33.631486</td>\n",
       "      <td>72.926559</td>\n",
       "      <td>6</td>\n",
       "      <td>For Sale</td>\n",
       "      <td>5</td>\n",
       "      <td>Marla</td>\n",
       "      <td>8.0</td>\n",
       "    </tr>\n",
       "    <tr>\n",
       "      <th>3</th>\n",
       "      <td>House</td>\n",
       "      <td>43500000</td>\n",
       "      <td>Bani Gala</td>\n",
       "      <td>Islamabad</td>\n",
       "      <td>Islamabad Capital</td>\n",
       "      <td>33.707573</td>\n",
       "      <td>73.151199</td>\n",
       "      <td>4</td>\n",
       "      <td>For Sale</td>\n",
       "      <td>4</td>\n",
       "      <td>Kanal</td>\n",
       "      <td>2.0</td>\n",
       "    </tr>\n",
       "    <tr>\n",
       "      <th>4</th>\n",
       "      <td>House</td>\n",
       "      <td>7000000</td>\n",
       "      <td>DHA Defence</td>\n",
       "      <td>Islamabad</td>\n",
       "      <td>Islamabad Capital</td>\n",
       "      <td>33.492591</td>\n",
       "      <td>73.301339</td>\n",
       "      <td>3</td>\n",
       "      <td>For Sale</td>\n",
       "      <td>3</td>\n",
       "      <td>Marla</td>\n",
       "      <td>8.0</td>\n",
       "    </tr>\n",
       "    <tr>\n",
       "      <th>...</th>\n",
       "      <td>...</td>\n",
       "      <td>...</td>\n",
       "      <td>...</td>\n",
       "      <td>...</td>\n",
       "      <td>...</td>\n",
       "      <td>...</td>\n",
       "      <td>...</td>\n",
       "      <td>...</td>\n",
       "      <td>...</td>\n",
       "      <td>...</td>\n",
       "      <td>...</td>\n",
       "      <td>...</td>\n",
       "    </tr>\n",
       "    <tr>\n",
       "      <th>168441</th>\n",
       "      <td>House</td>\n",
       "      <td>26500000</td>\n",
       "      <td>Gadap Town</td>\n",
       "      <td>Karachi</td>\n",
       "      <td>Sindh</td>\n",
       "      <td>25.029909</td>\n",
       "      <td>67.137192</td>\n",
       "      <td>0</td>\n",
       "      <td>For Sale</td>\n",
       "      <td>6</td>\n",
       "      <td>Marla</td>\n",
       "      <td>9.6</td>\n",
       "    </tr>\n",
       "    <tr>\n",
       "      <th>168442</th>\n",
       "      <td>House</td>\n",
       "      <td>12500000</td>\n",
       "      <td>Gadap Town</td>\n",
       "      <td>Karachi</td>\n",
       "      <td>Sindh</td>\n",
       "      <td>25.017951</td>\n",
       "      <td>67.136393</td>\n",
       "      <td>0</td>\n",
       "      <td>For Sale</td>\n",
       "      <td>3</td>\n",
       "      <td>Marla</td>\n",
       "      <td>8.0</td>\n",
       "    </tr>\n",
       "    <tr>\n",
       "      <th>168443</th>\n",
       "      <td>House</td>\n",
       "      <td>27000000</td>\n",
       "      <td>Gadap Town</td>\n",
       "      <td>Karachi</td>\n",
       "      <td>Sindh</td>\n",
       "      <td>25.015384</td>\n",
       "      <td>67.116330</td>\n",
       "      <td>0</td>\n",
       "      <td>For Sale</td>\n",
       "      <td>6</td>\n",
       "      <td>Marla</td>\n",
       "      <td>9.6</td>\n",
       "    </tr>\n",
       "    <tr>\n",
       "      <th>168444</th>\n",
       "      <td>House</td>\n",
       "      <td>11000000</td>\n",
       "      <td>Gadap Town</td>\n",
       "      <td>Karachi</td>\n",
       "      <td>Sindh</td>\n",
       "      <td>25.013265</td>\n",
       "      <td>67.120818</td>\n",
       "      <td>0</td>\n",
       "      <td>For Sale</td>\n",
       "      <td>3</td>\n",
       "      <td>Marla</td>\n",
       "      <td>7.8</td>\n",
       "    </tr>\n",
       "    <tr>\n",
       "      <th>168445</th>\n",
       "      <td>House</td>\n",
       "      <td>9000000</td>\n",
       "      <td>Bahria Town Karachi</td>\n",
       "      <td>Karachi</td>\n",
       "      <td>Sindh</td>\n",
       "      <td>25.113565</td>\n",
       "      <td>67.353811</td>\n",
       "      <td>3</td>\n",
       "      <td>For Sale</td>\n",
       "      <td>3</td>\n",
       "      <td>Marla</td>\n",
       "      <td>9.4</td>\n",
       "    </tr>\n",
       "  </tbody>\n",
       "</table>\n",
       "<p>168446 rows × 12 columns</p>\n",
       "</div>"
      ],
      "text/plain": [
       "       property_type     price             location       city  \\\n",
       "0               Flat  10000000                 G-10  Islamabad   \n",
       "1               Flat   6900000                 E-11  Islamabad   \n",
       "2              House  16500000                 G-15  Islamabad   \n",
       "3              House  43500000            Bani Gala  Islamabad   \n",
       "4              House   7000000          DHA Defence  Islamabad   \n",
       "...              ...       ...                  ...        ...   \n",
       "168441         House  26500000           Gadap Town    Karachi   \n",
       "168442         House  12500000           Gadap Town    Karachi   \n",
       "168443         House  27000000           Gadap Town    Karachi   \n",
       "168444         House  11000000           Gadap Town    Karachi   \n",
       "168445         House   9000000  Bahria Town Karachi    Karachi   \n",
       "\n",
       "            province_name   latitude  longitude  baths   purpose  bedrooms  \\\n",
       "0       Islamabad Capital  33.679890  73.012640      2  For Sale         2   \n",
       "1       Islamabad Capital  33.700993  72.971492      3  For Sale         3   \n",
       "2       Islamabad Capital  33.631486  72.926559      6  For Sale         5   \n",
       "3       Islamabad Capital  33.707573  73.151199      4  For Sale         4   \n",
       "4       Islamabad Capital  33.492591  73.301339      3  For Sale         3   \n",
       "...                   ...        ...        ...    ...       ...       ...   \n",
       "168441              Sindh  25.029909  67.137192      0  For Sale         6   \n",
       "168442              Sindh  25.017951  67.136393      0  For Sale         3   \n",
       "168443              Sindh  25.015384  67.116330      0  For Sale         6   \n",
       "168444              Sindh  25.013265  67.120818      0  For Sale         3   \n",
       "168445              Sindh  25.113565  67.353811      3  For Sale         3   \n",
       "\n",
       "       Area Type  Area Size  \n",
       "0          Marla        4.0  \n",
       "1          Marla        5.6  \n",
       "2          Marla        8.0  \n",
       "3          Kanal        2.0  \n",
       "4          Marla        8.0  \n",
       "...          ...        ...  \n",
       "168441     Marla        9.6  \n",
       "168442     Marla        8.0  \n",
       "168443     Marla        9.6  \n",
       "168444     Marla        7.8  \n",
       "168445     Marla        9.4  \n",
       "\n",
       "[168446 rows x 12 columns]"
      ]
     },
     "execution_count": 4,
     "metadata": {},
     "output_type": "execute_result"
    }
   ],
   "source": [
    "columns_to_drop=['property_id','location_id','page_url','area','date_added','agency',\n",
    "                'agent','Area Category']\n",
    "df=df.drop(columns=columns_to_drop,axis=1)\n",
    "df"
   ]
  },
  {
   "cell_type": "code",
   "execution_count": 5,
   "id": "a82504bd",
   "metadata": {
    "papermill": {
     "duration": 0.134951,
     "end_time": "2023-12-21T22:20:54.678320",
     "exception": false,
     "start_time": "2023-12-21T22:20:54.543369",
     "status": "completed"
    },
    "tags": []
   },
   "outputs": [
    {
     "data": {
      "text/plain": [
       "property_type    0\n",
       "price            0\n",
       "location         0\n",
       "city             0\n",
       "province_name    0\n",
       "latitude         0\n",
       "longitude        0\n",
       "baths            0\n",
       "purpose          0\n",
       "bedrooms         0\n",
       "Area Type        0\n",
       "Area Size        0\n",
       "dtype: int64"
      ]
     },
     "execution_count": 5,
     "metadata": {},
     "output_type": "execute_result"
    }
   ],
   "source": [
    "df.isnull().sum()"
   ]
  },
  {
   "cell_type": "markdown",
   "id": "c7b14f4a",
   "metadata": {
    "papermill": {
     "duration": 0.013617,
     "end_time": "2023-12-21T22:20:54.706303",
     "exception": false,
     "start_time": "2023-12-21T22:20:54.692686",
     "status": "completed"
    },
    "tags": []
   },
   "source": [
    "# Data cleaning"
   ]
  },
  {
   "cell_type": "code",
   "execution_count": 6,
   "id": "8ada33fe",
   "metadata": {
    "papermill": {
     "duration": 0.16892,
     "end_time": "2023-12-21T22:20:54.889048",
     "exception": false,
     "start_time": "2023-12-21T22:20:54.720128",
     "status": "completed"
    },
    "tags": []
   },
   "outputs": [
    {
     "data": {
      "text/plain": [
       "np.int64(53705)"
      ]
     },
     "execution_count": 6,
     "metadata": {},
     "output_type": "execute_result"
    }
   ],
   "source": [
    "df.duplicated().sum()"
   ]
  },
  {
   "cell_type": "code",
   "execution_count": 7,
   "id": "2b13c608",
   "metadata": {
    "papermill": {
     "duration": 0.309856,
     "end_time": "2023-12-21T22:20:55.212830",
     "exception": false,
     "start_time": "2023-12-21T22:20:54.902974",
     "status": "completed"
    },
    "tags": []
   },
   "outputs": [],
   "source": [
    "df = df.drop_duplicates()\n",
    "df = df.dropna()"
   ]
  },
  {
   "cell_type": "code",
   "execution_count": 8,
   "id": "10899649",
   "metadata": {
    "papermill": {
     "duration": 2.43195,
     "end_time": "2023-12-21T22:20:57.659069",
     "exception": false,
     "start_time": "2023-12-21T22:20:55.227119",
     "status": "completed"
    },
    "tags": []
   },
   "outputs": [
    {
     "data": {
      "text/plain": [
       "<Axes: >"
      ]
     },
     "execution_count": 8,
     "metadata": {},
     "output_type": "execute_result"
    },
    {
     "data": {
      "image/png": "[encoded data removed]",
      "text/plain": [
       "<Figure size 640x480 with 2 Axes>"
      ]
     },
     "metadata": {},
     "output_type": "display_data"
    }
   ],
   "source": [
    "sns.heatmap(df.isnull(),yticklabels=False)"
   ]
  },
  {
   "cell_type": "code",
   "execution_count": 9,
   "id": "3f4df35d",
   "metadata": {
    "papermill": {
     "duration": 0.109449,
     "end_time": "2023-12-21T22:20:57.785106",
     "exception": false,
     "start_time": "2023-12-21T22:20:57.675657",
     "status": "completed"
    },
    "tags": []
   },
   "outputs": [
    {
     "name": "stdout",
     "output_type": "stream",
     "text": [
      "<class 'pandas.core.frame.DataFrame'>\n",
      "Index: 114741 entries, 0 to 168444\n",
      "Data columns (total 12 columns):\n",
      " #   Column         Non-Null Count   Dtype  \n",
      "---  ------         --------------   -----  \n",
      " 0   property_type  114741 non-null  object \n",
      " 1   price          114741 non-null  int64  \n",
      " 2   location       114741 non-null  object \n",
      " 3   city           114741 non-null  object \n",
      " 4   province_name  114741 non-null  object \n",
      " 5   latitude       114741 non-null  float64\n",
      " 6   longitude      114741 non-null  float64\n",
      " 7   baths          114741 non-null  int64  \n",
      " 8   purpose        114741 non-null  object \n",
      " 9   bedrooms       114741 non-null  int64  \n",
      " 10  Area Type      114741 non-null  object \n",
      " 11  Area Size      114741 non-null  float64\n",
      "dtypes: float64(3), int64(3), object(6)\n",
      "memory usage: 11.4+ MB\n"
     ]
    }
   ],
   "source": [
    "df.info()"
   ]
  },
  {
   "cell_type": "code",
   "execution_count": 10,
   "id": "47bd238b",
   "metadata": {
    "papermill": {
     "duration": 0.372209,
     "end_time": "2023-12-21T22:20:58.172833",
     "exception": false,
     "start_time": "2023-12-21T22:20:57.800624",
     "status": "completed"
    },
    "tags": []
   },
   "outputs": [
    {
     "data": {
      "text/plain": [
       "<Axes: >"
      ]
     },
     "execution_count": 10,
     "metadata": {},
     "output_type": "execute_result"
    },
    {
     "data": {
      "image/png": "[encoded data removed]",
      "text/plain": [
       "<Figure size 1500x800 with 1 Axes>"
      ]
     },
     "metadata": {},
     "output_type": "display_data"
    }
   ],
   "source": [
    "df['Area Type'].hist(figsize=(15,8))"
   ]
  },
  {
   "cell_type": "code",
   "execution_count": 11,
   "id": "892a5c7d",
   "metadata": {
    "papermill": {
     "duration": 0.08207,
     "end_time": "2023-12-21T22:20:58.270326",
     "exception": false,
     "start_time": "2023-12-21T22:20:58.188256",
     "status": "completed"
    },
    "tags": []
   },
   "outputs": [
    {
     "data": {
      "text/html": [
       "<div>\n",
       "<style scoped>\n",
       "    .dataframe tbody tr th:only-of-type {\n",
       "        vertical-align: middle;\n",
       "    }\n",
       "\n",
       "    .dataframe tbody tr th {\n",
       "        vertical-align: top;\n",
       "    }\n",
       "\n",
       "    .dataframe thead th {\n",
       "        text-align: right;\n",
       "    }\n",
       "</style>\n",
       "<table border=\"1\" class=\"dataframe\">\n",
       "  <thead>\n",
       "    <tr style=\"text-align: right;\">\n",
       "      <th></th>\n",
       "      <th>property_type</th>\n",
       "      <th>price</th>\n",
       "      <th>location</th>\n",
       "      <th>city</th>\n",
       "      <th>province_name</th>\n",
       "      <th>latitude</th>\n",
       "      <th>longitude</th>\n",
       "      <th>baths</th>\n",
       "      <th>purpose</th>\n",
       "      <th>bedrooms</th>\n",
       "      <th>Area Size</th>\n",
       "    </tr>\n",
       "  </thead>\n",
       "  <tbody>\n",
       "    <tr>\n",
       "      <th>0</th>\n",
       "      <td>Flat</td>\n",
       "      <td>10000000</td>\n",
       "      <td>G-10</td>\n",
       "      <td>Islamabad</td>\n",
       "      <td>Islamabad Capital</td>\n",
       "      <td>33.679890</td>\n",
       "      <td>73.012640</td>\n",
       "      <td>2</td>\n",
       "      <td>For Sale</td>\n",
       "      <td>2</td>\n",
       "      <td>101.17160</td>\n",
       "    </tr>\n",
       "    <tr>\n",
       "      <th>1</th>\n",
       "      <td>Flat</td>\n",
       "      <td>6900000</td>\n",
       "      <td>E-11</td>\n",
       "      <td>Islamabad</td>\n",
       "      <td>Islamabad Capital</td>\n",
       "      <td>33.700993</td>\n",
       "      <td>72.971492</td>\n",
       "      <td>3</td>\n",
       "      <td>For Sale</td>\n",
       "      <td>3</td>\n",
       "      <td>141.64024</td>\n",
       "    </tr>\n",
       "    <tr>\n",
       "      <th>2</th>\n",
       "      <td>House</td>\n",
       "      <td>16500000</td>\n",
       "      <td>G-15</td>\n",
       "      <td>Islamabad</td>\n",
       "      <td>Islamabad Capital</td>\n",
       "      <td>33.631486</td>\n",
       "      <td>72.926559</td>\n",
       "      <td>6</td>\n",
       "      <td>For Sale</td>\n",
       "      <td>5</td>\n",
       "      <td>202.34320</td>\n",
       "    </tr>\n",
       "    <tr>\n",
       "      <th>3</th>\n",
       "      <td>House</td>\n",
       "      <td>43500000</td>\n",
       "      <td>Bani Gala</td>\n",
       "      <td>Islamabad</td>\n",
       "      <td>Islamabad Capital</td>\n",
       "      <td>33.707573</td>\n",
       "      <td>73.151199</td>\n",
       "      <td>4</td>\n",
       "      <td>For Sale</td>\n",
       "      <td>4</td>\n",
       "      <td>1011.71400</td>\n",
       "    </tr>\n",
       "    <tr>\n",
       "      <th>4</th>\n",
       "      <td>House</td>\n",
       "      <td>7000000</td>\n",
       "      <td>DHA Defence</td>\n",
       "      <td>Islamabad</td>\n",
       "      <td>Islamabad Capital</td>\n",
       "      <td>33.492591</td>\n",
       "      <td>73.301339</td>\n",
       "      <td>3</td>\n",
       "      <td>For Sale</td>\n",
       "      <td>3</td>\n",
       "      <td>202.34320</td>\n",
       "    </tr>\n",
       "    <tr>\n",
       "      <th>...</th>\n",
       "      <td>...</td>\n",
       "      <td>...</td>\n",
       "      <td>...</td>\n",
       "      <td>...</td>\n",
       "      <td>...</td>\n",
       "      <td>...</td>\n",
       "      <td>...</td>\n",
       "      <td>...</td>\n",
       "      <td>...</td>\n",
       "      <td>...</td>\n",
       "      <td>...</td>\n",
       "    </tr>\n",
       "    <tr>\n",
       "      <th>168423</th>\n",
       "      <td>House</td>\n",
       "      <td>39000000</td>\n",
       "      <td>DHA Defence</td>\n",
       "      <td>Lahore</td>\n",
       "      <td>Punjab</td>\n",
       "      <td>31.468350</td>\n",
       "      <td>74.401603</td>\n",
       "      <td>6</td>\n",
       "      <td>For Sale</td>\n",
       "      <td>5</td>\n",
       "      <td>505.85700</td>\n",
       "    </tr>\n",
       "    <tr>\n",
       "      <th>168424</th>\n",
       "      <td>House</td>\n",
       "      <td>28000000</td>\n",
       "      <td>Lake City</td>\n",
       "      <td>Lahore</td>\n",
       "      <td>Punjab</td>\n",
       "      <td>31.359647</td>\n",
       "      <td>74.253073</td>\n",
       "      <td>7</td>\n",
       "      <td>For Sale</td>\n",
       "      <td>6</td>\n",
       "      <td>505.85700</td>\n",
       "    </tr>\n",
       "    <tr>\n",
       "      <th>168428</th>\n",
       "      <td>House</td>\n",
       "      <td>20500000</td>\n",
       "      <td>DHA Defence</td>\n",
       "      <td>Lahore</td>\n",
       "      <td>Punjab</td>\n",
       "      <td>31.494408</td>\n",
       "      <td>74.437666</td>\n",
       "      <td>4</td>\n",
       "      <td>For Sale</td>\n",
       "      <td>3</td>\n",
       "      <td>252.92900</td>\n",
       "    </tr>\n",
       "    <tr>\n",
       "      <th>168431</th>\n",
       "      <td>House</td>\n",
       "      <td>14000000</td>\n",
       "      <td>Bahria Town Karachi</td>\n",
       "      <td>Karachi</td>\n",
       "      <td>Sindh</td>\n",
       "      <td>24.894076</td>\n",
       "      <td>67.027715</td>\n",
       "      <td>4</td>\n",
       "      <td>For Sale</td>\n",
       "      <td>3</td>\n",
       "      <td>151.75740</td>\n",
       "    </tr>\n",
       "    <tr>\n",
       "      <th>168444</th>\n",
       "      <td>House</td>\n",
       "      <td>11000000</td>\n",
       "      <td>Gadap Town</td>\n",
       "      <td>Karachi</td>\n",
       "      <td>Sindh</td>\n",
       "      <td>25.013265</td>\n",
       "      <td>67.120818</td>\n",
       "      <td>0</td>\n",
       "      <td>For Sale</td>\n",
       "      <td>3</td>\n",
       "      <td>197.28462</td>\n",
       "    </tr>\n",
       "  </tbody>\n",
       "</table>\n",
       "<p>114741 rows × 11 columns</p>\n",
       "</div>"
      ],
      "text/plain": [
       "       property_type     price             location       city  \\\n",
       "0               Flat  10000000                 G-10  Islamabad   \n",
       "1               Flat   6900000                 E-11  Islamabad   \n",
       "2              House  16500000                 G-15  Islamabad   \n",
       "3              House  43500000            Bani Gala  Islamabad   \n",
       "4              House   7000000          DHA Defence  Islamabad   \n",
       "...              ...       ...                  ...        ...   \n",
       "168423         House  39000000          DHA Defence     Lahore   \n",
       "168424         House  28000000            Lake City     Lahore   \n",
       "168428         House  20500000          DHA Defence     Lahore   \n",
       "168431         House  14000000  Bahria Town Karachi    Karachi   \n",
       "168444         House  11000000           Gadap Town    Karachi   \n",
       "\n",
       "            province_name   latitude  longitude  baths   purpose  bedrooms  \\\n",
       "0       Islamabad Capital  33.679890  73.012640      2  For Sale         2   \n",
       "1       Islamabad Capital  33.700993  72.971492      3  For Sale         3   \n",
       "2       Islamabad Capital  33.631486  72.926559      6  For Sale         5   \n",
       "3       Islamabad Capital  33.707573  73.151199      4  For Sale         4   \n",
       "4       Islamabad Capital  33.492591  73.301339      3  For Sale         3   \n",
       "...                   ...        ...        ...    ...       ...       ...   \n",
       "168423             Punjab  31.468350  74.401603      6  For Sale         5   \n",
       "168424             Punjab  31.359647  74.253073      7  For Sale         6   \n",
       "168428             Punjab  31.494408  74.437666      4  For Sale         3   \n",
       "168431              Sindh  24.894076  67.027715      4  For Sale         3   \n",
       "168444              Sindh  25.013265  67.120818      0  For Sale         3   \n",
       "\n",
       "         Area Size  \n",
       "0        101.17160  \n",
       "1        141.64024  \n",
       "2        202.34320  \n",
       "3       1011.71400  \n",
       "4        202.34320  \n",
       "...            ...  \n",
       "168423   505.85700  \n",
       "168424   505.85700  \n",
       "168428   252.92900  \n",
       "168431   151.75740  \n",
       "168444   197.28462  \n",
       "\n",
       "[114741 rows x 11 columns]"
      ]
     },
     "execution_count": 11,
     "metadata": {},
     "output_type": "execute_result"
    }
   ],
   "source": [
    "marla_mask = df['Area Type'] == \"Marla\"\n",
    "df.loc[marla_mask, 'Area Size'] *= 25.2929\n",
    "df.loc[~marla_mask, 'Area Size'] *= 505.857\n",
    "df=df.drop(columns=['Area Type'],axis=1)\n",
    "df"
   ]
  },
  {
   "cell_type": "markdown",
   "id": "9a844e31",
   "metadata": {
    "papermill": {
     "duration": 0.015352,
     "end_time": "2023-12-21T22:20:58.301616",
     "exception": false,
     "start_time": "2023-12-21T22:20:58.286264",
     "status": "completed"
    },
    "tags": []
   },
   "source": [
    "# Feature Scaling"
   ]
  },
  {
   "cell_type": "code",
   "execution_count": 12,
   "id": "df2dca54",
   "metadata": {
    "papermill": {
     "duration": 0.030159,
     "end_time": "2023-12-21T22:20:58.347241",
     "exception": false,
     "start_time": "2023-12-21T22:20:58.317082",
     "status": "completed"
    },
    "tags": []
   },
   "outputs": [
    {
     "name": "stdout",
     "output_type": "stream",
     "text": [
      "1476000357883548.8 6.689105268476388 4.098769165863817 7421337.101397115\n"
     ]
    }
   ],
   "source": [
    "print(df['price'].var(),\n",
    "      df['baths'].var(),\n",
    "      df['bedrooms'].var(),\n",
    "      df['Area Size'].var())"
   ]
  },
  {
   "cell_type": "code",
   "execution_count": 13,
   "id": "2a8f8ccf",
   "metadata": {
    "papermill": {
     "duration": 0.03148,
     "end_time": "2023-12-21T22:20:58.450809",
     "exception": false,
     "start_time": "2023-12-21T22:20:58.419329",
     "status": "completed"
    },
    "tags": []
   },
   "outputs": [],
   "source": [
    "ep = 1e-10\n",
    "df['price'] = np.log1p(df['price'] + ep)\n",
    "df['Area Size'] = np.log1p(df['Area Size'] + ep)"
   ]
  },
  {
   "cell_type": "code",
   "execution_count": 14,
   "id": "779f02c9",
   "metadata": {
    "papermill": {
     "duration": 0.030842,
     "end_time": "2023-12-21T22:20:58.497747",
     "exception": false,
     "start_time": "2023-12-21T22:20:58.466905",
     "status": "completed"
    },
    "tags": []
   },
   "outputs": [
    {
     "name": "stdout",
     "output_type": "stream",
     "text": [
      "7.304122142035775 6.689105268476388 4.098769165863817 0.6079404737519649\n"
     ]
    }
   ],
   "source": [
    "print(df['price'].var(),\n",
    "      df['baths'].var(),\n",
    "      df['bedrooms'].var(),\n",
    "      df['Area Size'].var())"
   ]
  },
  {
   "cell_type": "markdown",
   "id": "92d801b5",
   "metadata": {
    "papermill": {
     "duration": 0.016227,
     "end_time": "2023-12-21T22:20:58.530703",
     "exception": false,
     "start_time": "2023-12-21T22:20:58.514476",
     "status": "completed"
    },
    "tags": []
   },
   "source": [
    "# Remove outliers"
   ]
  },
  {
   "cell_type": "code",
   "execution_count": 15,
   "id": "3e86f28a",
   "metadata": {
    "papermill": {
     "duration": 0.238972,
     "end_time": "2023-12-21T22:20:58.786223",
     "exception": false,
     "start_time": "2023-12-21T22:20:58.547251",
     "status": "completed"
    },
    "tags": []
   },
   "outputs": [
    {
     "data": {
      "text/plain": [
       "<Axes: ylabel='price'>"
      ]
     },
     "execution_count": 15,
     "metadata": {},
     "output_type": "execute_result"
    },
    {
     "data": {
      "image/png": "[encoded data removed]",
      "text/plain": [
       "<Figure size 640x480 with 1 Axes>"
      ]
     },
     "metadata": {},
     "output_type": "display_data"
    }
   ],
   "source": [
    "sns.boxplot(df['price'])"
   ]
  },
  {
   "cell_type": "code",
   "execution_count": 16,
   "id": "deb4650c",
   "metadata": {
    "papermill": {
     "duration": 0.261221,
     "end_time": "2023-12-21T22:20:59.063979",
     "exception": false,
     "start_time": "2023-12-21T22:20:58.802758",
     "status": "completed"
    },
    "tags": []
   },
   "outputs": [
    {
     "data": {
      "text/plain": [
       "<Axes: ylabel='baths'>"
      ]
     },
     "execution_count": 16,
     "metadata": {},
     "output_type": "execute_result"
    },
    {
     "data": {
      "image/png": "[encoded data removed]",
      "text/plain": [
       "<Figure size 640x480 with 1 Axes>"
      ]
     },
     "metadata": {},
     "output_type": "display_data"
    }
   ],
   "source": [
    "sns.boxplot(df['baths'])"
   ]
  },
  {
   "cell_type": "code",
   "execution_count": 17,
   "id": "a34e1d2a",
   "metadata": {
    "papermill": {
     "duration": 0.253537,
     "end_time": "2023-12-21T22:20:59.334683",
     "exception": false,
     "start_time": "2023-12-21T22:20:59.081146",
     "status": "completed"
    },
    "tags": []
   },
   "outputs": [
    {
     "data": {
      "text/plain": [
       "<Axes: ylabel='bedrooms'>"
      ]
     },
     "execution_count": 17,
     "metadata": {},
     "output_type": "execute_result"
    },
    {
     "data": {
      "image/png": "[encoded data removed]",
      "text/plain": [
       "<Figure size 640x480 with 1 Axes>"
      ]
     },
     "metadata": {},
     "output_type": "display_data"
    }
   ],
   "source": [
    "sns.boxplot(df['bedrooms'])"
   ]
  },
  {
   "cell_type": "code",
   "execution_count": 18,
   "id": "627bc6d3",
   "metadata": {
    "papermill": {
     "duration": 0.253622,
     "end_time": "2023-12-21T22:20:59.605988",
     "exception": false,
     "start_time": "2023-12-21T22:20:59.352366",
     "status": "completed"
    },
    "tags": []
   },
   "outputs": [
    {
     "data": {
      "text/plain": [
       "<Axes: ylabel='Area Size'>"
      ]
     },
     "execution_count": 18,
     "metadata": {},
     "output_type": "execute_result"
    },
    {
     "data": {
      "image/png": "[encoded data removed]",
      "text/plain": [
       "<Figure size 640x480 with 1 Axes>"
      ]
     },
     "metadata": {},
     "output_type": "display_data"
    }
   ],
   "source": [
    "sns.boxplot(df['Area Size'])"
   ]
  },
  {
   "cell_type": "code",
   "execution_count": 19,
   "id": "93b6e3ac",
   "metadata": {
    "papermill": {
     "duration": 0.062889,
     "end_time": "2023-12-21T22:20:59.686582",
     "exception": false,
     "start_time": "2023-12-21T22:20:59.623693",
     "status": "completed"
    },
    "tags": []
   },
   "outputs": [],
   "source": [
    "arr=['price','baths','bedrooms','Area Size']\n",
    "new_df=df.copy()\n",
    "for col in arr:\n",
    "    Q1 = new_df[col].quantile(0.25)\n",
    "    Q3 = new_df[col].quantile(0.75)\n",
    "    IQR = Q3 - Q1\n",
    "    lower_bound = Q1 - 1.5 * IQR\n",
    "    upper_bound = Q3 + 1.5 * IQR\n",
    "    new_df[col] = np.where(\n",
    "        new_df[col] > upper_bound,\n",
    "        upper_bound,\n",
    "        np.where(\n",
    "            new_df[col] < lower_bound,\n",
    "            lower_bound,\n",
    "            new_df[col]\n",
    "        )\n",
    "    )\n",
    "df = new_df"
   ]
  },
  {
   "cell_type": "code",
   "execution_count": 20,
   "id": "fdd0edac",
   "metadata": {
    "papermill": {
     "duration": 0.23094,
     "end_time": "2023-12-21T22:20:59.936361",
     "exception": false,
     "start_time": "2023-12-21T22:20:59.705421",
     "status": "completed"
    },
    "tags": []
   },
   "outputs": [
    {
     "data": {
      "text/plain": [
       "<Axes: ylabel='bedrooms'>"
      ]
     },
     "execution_count": 20,
     "metadata": {},
     "output_type": "execute_result"
    },
    {
     "data": {
      "image/png": "[encoded data removed]",
      "text/plain": [
       "<Figure size 640x480 with 1 Axes>"
      ]
     },
     "metadata": {},
     "output_type": "display_data"
    }
   ],
   "source": [
    "sns.boxplot(df['bedrooms'])"
   ]
  },
  {
   "cell_type": "markdown",
   "id": "8e145504",
   "metadata": {
    "papermill": {
     "duration": 0.018092,
     "end_time": "2023-12-21T22:20:59.974204",
     "exception": false,
     "start_time": "2023-12-21T22:20:59.956112",
     "status": "completed"
    },
    "tags": []
   },
   "source": [
    "# Encoding Data\n"
   ]
  },
  {
   "cell_type": "code",
   "execution_count": 22,
   "id": "6d187064",
   "metadata": {
    "papermill": {
     "duration": 1.345943,
     "end_time": "2023-12-21T22:21:01.338445",
     "exception": false,
     "start_time": "2023-12-21T22:20:59.992502",
     "status": "completed"
    },
    "tags": []
   },
   "outputs": [
    {
     "data": {
      "text/html": [
       "<div>\n",
       "<style scoped>\n",
       "    .dataframe tbody tr th:only-of-type {\n",
       "        vertical-align: middle;\n",
       "    }\n",
       "\n",
       "    .dataframe tbody tr th {\n",
       "        vertical-align: top;\n",
       "    }\n",
       "\n",
       "    .dataframe thead th {\n",
       "        text-align: right;\n",
       "    }\n",
       "</style>\n",
       "<table border=\"1\" class=\"dataframe\">\n",
       "  <thead>\n",
       "    <tr style=\"text-align: right;\">\n",
       "      <th></th>\n",
       "      <th>property_type</th>\n",
       "      <th>price</th>\n",
       "      <th>location</th>\n",
       "      <th>city</th>\n",
       "      <th>province_name</th>\n",
       "      <th>latitude</th>\n",
       "      <th>longitude</th>\n",
       "      <th>baths</th>\n",
       "      <th>purpose</th>\n",
       "      <th>bedrooms</th>\n",
       "      <th>Area Size</th>\n",
       "    </tr>\n",
       "  </thead>\n",
       "  <tbody>\n",
       "    <tr>\n",
       "      <th>0</th>\n",
       "      <td>14.398164</td>\n",
       "      <td>16.118096</td>\n",
       "      <td>13.224147</td>\n",
       "      <td>13.650985</td>\n",
       "      <td>13.650985</td>\n",
       "      <td>33.679890</td>\n",
       "      <td>73.012640</td>\n",
       "      <td>2.0</td>\n",
       "      <td>16.493612</td>\n",
       "      <td>2.0</td>\n",
       "      <td>4.626654</td>\n",
       "    </tr>\n",
       "    <tr>\n",
       "      <th>1</th>\n",
       "      <td>14.398164</td>\n",
       "      <td>15.747032</td>\n",
       "      <td>12.680837</td>\n",
       "      <td>13.650985</td>\n",
       "      <td>13.650985</td>\n",
       "      <td>33.700993</td>\n",
       "      <td>72.971492</td>\n",
       "      <td>3.0</td>\n",
       "      <td>16.493612</td>\n",
       "      <td>3.0</td>\n",
       "      <td>4.960326</td>\n",
       "    </tr>\n",
       "    <tr>\n",
       "      <th>2</th>\n",
       "      <td>15.882169</td>\n",
       "      <td>16.618871</td>\n",
       "      <td>13.190185</td>\n",
       "      <td>13.650985</td>\n",
       "      <td>13.650985</td>\n",
       "      <td>33.631486</td>\n",
       "      <td>72.926559</td>\n",
       "      <td>6.0</td>\n",
       "      <td>16.493612</td>\n",
       "      <td>5.0</td>\n",
       "      <td>5.314895</td>\n",
       "    </tr>\n",
       "    <tr>\n",
       "      <th>3</th>\n",
       "      <td>15.882169</td>\n",
       "      <td>17.588272</td>\n",
       "      <td>13.190175</td>\n",
       "      <td>13.650985</td>\n",
       "      <td>13.650985</td>\n",
       "      <td>33.707573</td>\n",
       "      <td>73.151199</td>\n",
       "      <td>4.0</td>\n",
       "      <td>16.493612</td>\n",
       "      <td>4.0</td>\n",
       "      <td>6.920389</td>\n",
       "    </tr>\n",
       "    <tr>\n",
       "      <th>4</th>\n",
       "      <td>15.882169</td>\n",
       "      <td>15.761421</td>\n",
       "      <td>15.563395</td>\n",
       "      <td>13.650985</td>\n",
       "      <td>13.650985</td>\n",
       "      <td>33.492591</td>\n",
       "      <td>73.301339</td>\n",
       "      <td>3.0</td>\n",
       "      <td>16.493612</td>\n",
       "      <td>3.0</td>\n",
       "      <td>5.314895</td>\n",
       "    </tr>\n",
       "    <tr>\n",
       "      <th>...</th>\n",
       "      <td>...</td>\n",
       "      <td>...</td>\n",
       "      <td>...</td>\n",
       "      <td>...</td>\n",
       "      <td>...</td>\n",
       "      <td>...</td>\n",
       "      <td>...</td>\n",
       "      <td>...</td>\n",
       "      <td>...</td>\n",
       "      <td>...</td>\n",
       "      <td>...</td>\n",
       "    </tr>\n",
       "    <tr>\n",
       "      <th>168423</th>\n",
       "      <td>15.882169</td>\n",
       "      <td>17.479072</td>\n",
       "      <td>15.563395</td>\n",
       "      <td>16.588718</td>\n",
       "      <td>15.522317</td>\n",
       "      <td>31.468350</td>\n",
       "      <td>74.401603</td>\n",
       "      <td>6.0</td>\n",
       "      <td>16.493612</td>\n",
       "      <td>5.0</td>\n",
       "      <td>6.228229</td>\n",
       "    </tr>\n",
       "    <tr>\n",
       "      <th>168424</th>\n",
       "      <td>15.882169</td>\n",
       "      <td>17.147715</td>\n",
       "      <td>16.643049</td>\n",
       "      <td>16.588718</td>\n",
       "      <td>15.522317</td>\n",
       "      <td>31.359647</td>\n",
       "      <td>74.253073</td>\n",
       "      <td>7.0</td>\n",
       "      <td>16.493612</td>\n",
       "      <td>6.0</td>\n",
       "      <td>6.228229</td>\n",
       "    </tr>\n",
       "    <tr>\n",
       "      <th>168428</th>\n",
       "      <td>15.882169</td>\n",
       "      <td>16.835935</td>\n",
       "      <td>15.563395</td>\n",
       "      <td>16.588718</td>\n",
       "      <td>15.522317</td>\n",
       "      <td>31.494408</td>\n",
       "      <td>74.437666</td>\n",
       "      <td>4.0</td>\n",
       "      <td>16.493612</td>\n",
       "      <td>3.0</td>\n",
       "      <td>5.537055</td>\n",
       "    </tr>\n",
       "    <tr>\n",
       "      <th>168431</th>\n",
       "      <td>15.882169</td>\n",
       "      <td>16.454568</td>\n",
       "      <td>15.509855</td>\n",
       "      <td>15.087013</td>\n",
       "      <td>15.087013</td>\n",
       "      <td>24.894076</td>\n",
       "      <td>67.027715</td>\n",
       "      <td>4.0</td>\n",
       "      <td>16.493612</td>\n",
       "      <td>3.0</td>\n",
       "      <td>5.028851</td>\n",
       "    </tr>\n",
       "    <tr>\n",
       "      <th>168444</th>\n",
       "      <td>15.882169</td>\n",
       "      <td>16.213406</td>\n",
       "      <td>15.160323</td>\n",
       "      <td>15.087013</td>\n",
       "      <td>15.087013</td>\n",
       "      <td>25.013265</td>\n",
       "      <td>67.120818</td>\n",
       "      <td>0.0</td>\n",
       "      <td>16.493612</td>\n",
       "      <td>3.0</td>\n",
       "      <td>5.289703</td>\n",
       "    </tr>\n",
       "  </tbody>\n",
       "</table>\n",
       "<p>114741 rows × 11 columns</p>\n",
       "</div>"
      ],
      "text/plain": [
       "        property_type      price   location       city  province_name  \\\n",
       "0           14.398164  16.118096  13.224147  13.650985      13.650985   \n",
       "1           14.398164  15.747032  12.680837  13.650985      13.650985   \n",
       "2           15.882169  16.618871  13.190185  13.650985      13.650985   \n",
       "3           15.882169  17.588272  13.190175  13.650985      13.650985   \n",
       "4           15.882169  15.761421  15.563395  13.650985      13.650985   \n",
       "...               ...        ...        ...        ...            ...   \n",
       "168423      15.882169  17.479072  15.563395  16.588718      15.522317   \n",
       "168424      15.882169  17.147715  16.643049  16.588718      15.522317   \n",
       "168428      15.882169  16.835935  15.563395  16.588718      15.522317   \n",
       "168431      15.882169  16.454568  15.509855  15.087013      15.087013   \n",
       "168444      15.882169  16.213406  15.160323  15.087013      15.087013   \n",
       "\n",
       "         latitude  longitude  baths    purpose  bedrooms  Area Size  \n",
       "0       33.679890  73.012640    2.0  16.493612       2.0   4.626654  \n",
       "1       33.700993  72.971492    3.0  16.493612       3.0   4.960326  \n",
       "2       33.631486  72.926559    6.0  16.493612       5.0   5.314895  \n",
       "3       33.707573  73.151199    4.0  16.493612       4.0   6.920389  \n",
       "4       33.492591  73.301339    3.0  16.493612       3.0   5.314895  \n",
       "...           ...        ...    ...        ...       ...        ...  \n",
       "168423  31.468350  74.401603    6.0  16.493612       5.0   6.228229  \n",
       "168424  31.359647  74.253073    7.0  16.493612       6.0   6.228229  \n",
       "168428  31.494408  74.437666    4.0  16.493612       3.0   5.537055  \n",
       "168431  24.894076  67.027715    4.0  16.493612       3.0   5.028851  \n",
       "168444  25.013265  67.120818    0.0  16.493612       3.0   5.289703  \n",
       "\n",
       "[114741 rows x 11 columns]"
      ]
     },
     "execution_count": 22,
     "metadata": {},
     "output_type": "execute_result"
    }
   ],
   "source": [
    "import category_encoders as ce\n",
    "\n",
    "categorical_column=['property_type','location','city','province_name','purpose']\n",
    "encoder = ce.TargetEncoder(cols=categorical_column)\n",
    "df_encoded = encoder.fit_transform(df,df['price'])\n",
    "df_encoded"
   ]
  },
  {
   "cell_type": "code",
   "execution_count": 23,
   "id": "b2c62495",
   "metadata": {
    "papermill": {
     "duration": 0.032267,
     "end_time": "2023-12-21T22:21:01.390208",
     "exception": false,
     "start_time": "2023-12-21T22:21:01.357941",
     "status": "completed"
    },
    "tags": []
   },
   "outputs": [],
   "source": [
    "X=df_encoded.drop(columns=['price'],axis=1)\n",
    "y=df['price']"
   ]
  },
  {
   "cell_type": "markdown",
   "id": "8b81b4e7",
   "metadata": {
    "papermill": {
     "duration": 0.018449,
     "end_time": "2023-12-21T22:21:01.427768",
     "exception": false,
     "start_time": "2023-12-21T22:21:01.409319",
     "status": "completed"
    },
    "tags": []
   },
   "source": [
    "# Feature Engineering"
   ]
  },
  {
   "cell_type": "code",
   "execution_count": 24,
   "id": "1ffa9c24",
   "metadata": {
    "papermill": {
     "duration": 0.90262,
     "end_time": "2023-12-21T22:21:02.349688",
     "exception": false,
     "start_time": "2023-12-21T22:21:01.447068",
     "status": "completed"
    },
    "tags": []
   },
   "outputs": [
    {
     "data": {
      "text/plain": [
       "<Axes: >"
      ]
     },
     "execution_count": 24,
     "metadata": {},
     "output_type": "execute_result"
    },
    {
     "data": {
      "image/png": "[encoded data removed]",
      "text/plain": [
       "<Figure size 1500x800 with 2 Axes>"
      ]
     },
     "metadata": {},
     "output_type": "display_data"
    }
   ],
   "source": [
    "plt.figure(figsize=(15,8))\n",
    "sns.heatmap(X.join(y).corr(),annot=True,cmap='coolwarm')"
   ]
  },
  {
   "cell_type": "markdown",
   "id": "f49813ef",
   "metadata": {
    "papermill": {
     "duration": 0.020788,
     "end_time": "2023-12-21T22:21:02.391291",
     "exception": false,
     "start_time": "2023-12-21T22:21:02.370503",
     "status": "completed"
    },
    "tags": []
   },
   "source": [
    "# Splitting Dataset"
   ]
  },
  {
   "cell_type": "code",
   "execution_count": 25,
   "id": "c8b20c91",
   "metadata": {
    "papermill": {
     "duration": 0.170854,
     "end_time": "2023-12-21T22:21:02.582981",
     "exception": false,
     "start_time": "2023-12-21T22:21:02.412127",
     "status": "completed"
    },
    "tags": []
   },
   "outputs": [],
   "source": [
    "from sklearn.model_selection import train_test_split\n",
    "\n",
    "X_train,X_test,y_train,y_test=train_test_split(X,y,test_size=0.2,random_state=42)"
   ]
  },
  {
   "cell_type": "markdown",
   "id": "e4792b0d",
   "metadata": {
    "papermill": {
     "duration": 0.020808,
     "end_time": "2023-12-21T22:21:02.625041",
     "exception": false,
     "start_time": "2023-12-21T22:21:02.604233",
     "status": "completed"
    },
    "tags": []
   },
   "source": [
    "# Building Linear model"
   ]
  },
  {
   "cell_type": "code",
   "execution_count": 26,
   "id": "4d511306",
   "metadata": {
    "papermill": {
     "duration": 0.203397,
     "end_time": "2023-12-21T22:21:02.850310",
     "exception": false,
     "start_time": "2023-12-21T22:21:02.646913",
     "status": "completed"
    },
    "tags": []
   },
   "outputs": [],
   "source": [
    "from sklearn.linear_model import LinearRegression\n",
    "from sklearn.metrics import mean_squared_error, mean_absolute_error, r2_score\n",
    "\n",
    "LR=LinearRegression()\n",
    "LR.fit(X_train,y_train)\n",
    "y_pred=LR.predict(X_test)"
   ]
  },
  {
   "cell_type": "code",
   "execution_count": 27,
   "id": "6e8405b6",
   "metadata": {
    "papermill": {
     "duration": 0.474409,
     "end_time": "2023-12-21T22:21:03.421405",
     "exception": false,
     "start_time": "2023-12-21T22:21:02.946996",
     "status": "completed"
    },
    "tags": []
   },
   "outputs": [
    {
     "data": {
      "text/plain": [
       "Text(0, 0.5, 'Predicted values')"
      ]
     },
     "execution_count": 27,
     "metadata": {},
     "output_type": "execute_result"
    },
    {
     "data": {
      "image/png": "[encoded data removed]",
      "text/plain": [
       "<Figure size 640x480 with 1 Axes>"
      ]
     },
     "metadata": {},
     "output_type": "display_data"
    }
   ],
   "source": [
    "plt.scatter(y_test,y_pred,marker='x',color='black')\n",
    "plt.xlabel(\"Actual values\")\n",
    "plt.ylabel(\"Predicted values\")"
   ]
  },
  {
   "cell_type": "markdown",
   "id": "d7f52872",
   "metadata": {
    "papermill": {
     "duration": 0.021388,
     "end_time": "2023-12-21T22:21:03.464658",
     "exception": false,
     "start_time": "2023-12-21T22:21:03.443270",
     "status": "completed"
    },
    "tags": []
   },
   "source": [
    "# Score of linear model"
   ]
  },
  {
   "cell_type": "code",
   "execution_count": 28,
   "id": "0bc5a1a2",
   "metadata": {
    "papermill": {
     "duration": 0.060011,
     "end_time": "2023-12-21T22:21:03.546972",
     "exception": false,
     "start_time": "2023-12-21T22:21:03.486961",
     "status": "completed"
    },
    "tags": []
   },
   "outputs": [
    {
     "name": "stdout",
     "output_type": "stream",
     "text": [
      "model_score_train : 0.9576271674787604\n",
      "model score_test : 0.9599324357903631\n",
      "R-squared: 0.9599324357903631\n",
      "mean_squared_error_train: 0.3087497700112066\n",
      "mean_square_error_test: 0.29238454581964785\n",
      "rmse : 0.5407259433573054\n"
     ]
    }
   ],
   "source": [
    "m_score_train = LR.score(X_train,y_train)\n",
    "m_score_test = LR.score(X_test,y_test)\n",
    "r2 = r2_score(y_test, y_pred)\n",
    "train_mse_scaled = mean_squared_error(y_train, LR.predict(X_train))\n",
    "test_mse_scaled = mean_squared_error(y_test, y_pred)\n",
    "rmse=np.sqrt(test_mse_scaled)\n",
    "print(f\"model_score_train : {m_score_train}\\nmodel score_test : {m_score_test}\\nR-squared: {r2}\\nmean_squared_error_train: {train_mse_scaled}\\nmean_square_error_test: {test_mse_scaled}\\nrmse : {rmse}\")"
   ]
  },
  {
   "cell_type": "markdown",
   "id": "7125087f",
   "metadata": {
    "papermill": {
     "duration": 0.046622,
     "end_time": "2023-12-21T22:21:03.648446",
     "exception": false,
     "start_time": "2023-12-21T22:21:03.601824",
     "status": "completed"
    },
    "tags": []
   },
   "source": [
    "# Building Knn model"
   ]
  },
  {
   "cell_type": "code",
   "execution_count": 29,
   "id": "d67ad947",
   "metadata": {
    "papermill": {
     "duration": 1.658774,
     "end_time": "2023-12-21T22:21:05.333743",
     "exception": false,
     "start_time": "2023-12-21T22:21:03.674969",
     "status": "completed"
    },
    "tags": []
   },
   "outputs": [],
   "source": [
    "from sklearn.neighbors import KNeighborsRegressor\n",
    "\n",
    "Knn=KNeighborsRegressor(n_neighbors=3)\n",
    "Knn.fit(X_train,y_train)\n",
    "y_pred_knn=Knn.predict(X_test)"
   ]
  },
  {
   "cell_type": "code",
   "execution_count": 30,
   "id": "4b9bbb0b",
   "metadata": {
    "papermill": {
     "duration": 0.396064,
     "end_time": "2023-12-21T22:21:05.751960",
     "exception": false,
     "start_time": "2023-12-21T22:21:05.355896",
     "status": "completed"
    },
    "tags": []
   },
   "outputs": [
    {
     "data": {
      "text/plain": [
       "Text(0, 0.5, 'Predicted values')"
      ]
     },
     "execution_count": 30,
     "metadata": {},
     "output_type": "execute_result"
    },
    {
     "data": {
      "image/png": "[encoded data removed]",
      "text/plain": [
       "<Figure size 640x480 with 1 Axes>"
      ]
     },
     "metadata": {},
     "output_type": "display_data"
    }
   ],
   "source": [
    "plt.scatter(y_test,y_pred_knn,marker='x',color='black')\n",
    "plt.xlabel(\"Actual values\")\n",
    "plt.ylabel(\"Predicted values\")"
   ]
  },
  {
   "cell_type": "markdown",
   "id": "5c156fb7",
   "metadata": {
    "papermill": {
     "duration": 0.022774,
     "end_time": "2023-12-21T22:21:05.797256",
     "exception": false,
     "start_time": "2023-12-21T22:21:05.774482",
     "status": "completed"
    },
    "tags": []
   },
   "source": [
    "# Score of Knn model"
   ]
  },
  {
   "cell_type": "code",
   "execution_count": 31,
   "id": "2843fdaf",
   "metadata": {
    "papermill": {
     "duration": 6.719534,
     "end_time": "2023-12-21T22:21:12.540258",
     "exception": false,
     "start_time": "2023-12-21T22:21:05.820724",
     "status": "completed"
    },
    "tags": []
   },
   "outputs": [
    {
     "name": "stdout",
     "output_type": "stream",
     "text": [
      "model score_test : 0.9743436297413864\n",
      "R-squared: 0.9743436297413864\n",
      "mean_squared_error_train: 0.1024862186603442\n",
      "mean_square_error_test: 0.1872219166155655\n",
      "rmse : 0.43269147971223737\n"
     ]
    }
   ],
   "source": [
    "m_score_test_knn=Knn.score(X_test,y_test)\n",
    "r2_knn = r2_score(y_test, y_pred_knn)\n",
    "train_mse_scaled_knn = mean_squared_error(y_train, Knn.predict(X_train))\n",
    "test_mse_scaled_knn = mean_squared_error(y_test, y_pred_knn)\n",
    "rmse_knn=np.sqrt(test_mse_scaled_knn)\n",
    "print(f\"model score_test : {m_score_test_knn}\\nR-squared: {r2_knn}\\nmean_squared_error_train: {train_mse_scaled_knn}\\nmean_square_error_test: {test_mse_scaled_knn}\\nrmse : {rmse_knn}\")"
   ]
  },
  {
   "cell_type": "markdown",
   "id": "9bdce795",
   "metadata": {
    "papermill": {
     "duration": 0.022262,
     "end_time": "2023-12-21T22:21:12.585074",
     "exception": false,
     "start_time": "2023-12-21T22:21:12.562812",
     "status": "completed"
    },
    "tags": []
   },
   "source": [
    "# Comapring between mse"
   ]
  },
  {
   "cell_type": "code",
   "execution_count": 32,
   "id": "37fb73f9",
   "metadata": {
    "papermill": {
     "duration": 0.227538,
     "end_time": "2023-12-21T22:21:12.835143",
     "exception": false,
     "start_time": "2023-12-21T22:21:12.607605",
     "status": "completed"
    },
    "tags": []
   },
   "outputs": [
    {
     "data": {
      "image/png": "[encoded data removed]",
      "text/plain": [
       "<Figure size 640x480 with 1 Axes>"
      ]
     },
     "metadata": {},
     "output_type": "display_data"
    }
   ],
   "source": [
    "labels = ['KNN','Linear Regression']\n",
    "total_mse = [test_mse_scaled_knn,test_mse_scaled]\n",
    "plt.bar(labels,total_mse,color=['green','red'])\n",
    "plt.show()"
   ]
  },
  {
   "cell_type": "markdown",
   "id": "9828c688",
   "metadata": {
    "papermill": {
     "duration": 0.022958,
     "end_time": "2023-12-21T22:21:12.881555",
     "exception": false,
     "start_time": "2023-12-21T22:21:12.858597",
     "status": "completed"
    },
    "tags": []
   },
   "source": [
    "# Cross Validation "
   ]
  },
  {
   "cell_type": "code",
   "execution_count": 33,
   "id": "93e6f4e2",
   "metadata": {
    "papermill": {
     "duration": 8.391039,
     "end_time": "2023-12-21T22:21:21.295804",
     "exception": false,
     "start_time": "2023-12-21T22:21:12.904765",
     "status": "completed"
    },
    "tags": []
   },
   "outputs": [
    {
     "name": "stdout",
     "output_type": "stream",
     "text": [
      "Linear Regression Score: 0.9577393040933895\n",
      "KNN Score: 0.9706642466331783\n"
     ]
    }
   ],
   "source": [
    "from sklearn.model_selection import cross_val_score\n",
    "\n",
    "# Linear Regression Model\n",
    "LR_cv = cross_val_score(LR,X,y,cv=5,scoring=\"r2\")\n",
    "LR_cv = LR_cv.mean()\n",
    "\n",
    "\n",
    "# KNN Model\n",
    "Knn_cv = cross_val_score(Knn,X,y,cv=5,scoring=\"r2\")\n",
    "Knn_cv = Knn_cv.mean()\n",
    "\n",
    "#printing the results of cv_models\n",
    "print(f'Linear Regression Score: {LR_cv}')\n",
    "print(f'KNN Score: {Knn_cv}')\n",
    "\n",
    "# the results is very near to results before we do cross validation this indicates that the model is stable and generalize well to unseen data"
   ]
  },
  {
   "cell_type": "code",
   "execution_count": 42,
   "id": "bde4f0a1",
   "metadata": {
    "papermill": {
     "duration": 0.02357,
     "end_time": "2023-12-21T22:21:21.343256",
     "exception": false,
     "start_time": "2023-12-21T22:21:21.319686",
     "status": "completed"
    },
    "tags": []
   },
   "outputs": [
    {
     "data": {
      "text/plain": [
       "np.float64(17.665658180950928)"
      ]
     },
     "execution_count": 42,
     "metadata": {},
     "output_type": "execute_result"
    }
   ],
   "source": [
    "df.iloc[500].price"
   ]
  },
  {
   "cell_type": "code",
   "execution_count": 57,
   "id": "5b1c88a4-65a9-4cc1-ae1a-765f079dc6e9",
   "metadata": {},
   "outputs": [
    {
     "name": "stderr",
     "output_type": "stream",
     "text": [
      "c:\\users\\khan\\appdata\\local\\programs\\python\\python39\\lib\\site-packages\\sklearn\\base.py:493: UserWarning: X does not have valid feature names, but LinearRegression was fitted with feature names\n",
      "  warnings.warn(\n"
     ]
    }
   ],
   "source": [
    "#'location_id', 'latitude', 'longitude','Area Size','baths','bedrooms'\n",
    "\n",
    "#select row to test prediction\n",
    "row = 10\n",
    "\n",
    "X_random_sample = np.array([[\n",
    "    df_encoded.iloc[row].property_type, \n",
    "    df_encoded.iloc[row].latitude, \n",
    "    df_encoded.iloc[row].longitude,\n",
    "    df_encoded.iloc[row][\"Area Size\"], \n",
    "    df_encoded.iloc[row].baths,\n",
    "    df_encoded.iloc[row].bedrooms,\n",
    "    df_encoded.iloc[row].location, \n",
    "    df_encoded.iloc[row].city,\n",
    "    df_encoded.iloc[row][\"province_name\"], \n",
    "    df_encoded.iloc[row].purpose,\n",
    "   \n",
    "    ]])\n",
    "\t\t\t\t\t\t\t\n",
    "y_predict = LR.predict(X_random_sample)\n"
   ]
  },
  {
   "cell_type": "code",
   "execution_count": null,
   "id": "767e8908-4c14-4c05-86f6-8a5d4fda900d",
   "metadata": {},
   "outputs": [],
   "source": []
  }
 ],
 "metadata": {
  "kaggle": {
   "accelerator": "none",
   "dataSources": [
    {
     "datasetId": 3230351,
     "sourceId": 5617966,
     "sourceType": "datasetVersion"
    }
   ],
   "dockerImageVersionId": 30626,
   "isGpuEnabled": false,
   "isInternetEnabled": true,
   "language": "python",
   "sourceType": "notebook"
  },
  "kernelspec": {
   "display_name": "Python 3 (ipykernel)",
   "language": "python",
   "name": "python3"
  },
  "language_info": {
   "codemirror_mode": {
    "name": "ipython",
    "version": 3
   },
   "file_extension": ".py",
   "mimetype": "text/x-python",
   "name": "python",
   "nbconvert_exporter": "python",
   "pygments_lexer": "ipython3",
   "version": "3.9.6"
  },
  "papermill": {
   "default_parameters": {},
   "duration": 34.1281,
   "end_time": "2023-12-21T22:21:22.087908",
   "environment_variables": {},
   "exception": null,
   "input_path": "__notebook__.ipynb",
   "output_path": "__notebook__.ipynb",
   "parameters": {},
   "start_time": "2023-12-21T22:20:47.959808",
   "version": "2.4.0"
  }
 },
 "nbformat": 4,
 "nbformat_minor": 5
}
